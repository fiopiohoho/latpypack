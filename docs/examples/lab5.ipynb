{
 "cells": [
  {
   "cell_type": "markdown",
   "id": "0",
   "metadata": {},
   "source": [
    "# Lab 5\n",
    "\n",
    "[![image](https://colab.research.google.com/assets/colab-badge.svg)](https://colab.research.google.com/github/giswqs/geohey/blob/main/docs/labs/lab5.ipynb)\n",
    "\n",
    "## Submission instructions\n",
    "\n",
    "1. Download the notebook from https://geohey.gishub.org/labs/lab5\n",
    "2. Complete the lab questions\n",
    "3. Restart Kernel and Run All Cells\n",
    "4. Upload the notebook to your GitHub repository\n",
    "5. Make sure the notebook has an `Open In Colab` badge. Click on the badge to make sure your notebook can be opened in Colab.\n",
    "6. Submit the link to the notebook on your GitHub repository to Canvas"
   ]
  },
  {
   "cell_type": "markdown",
   "id": "1",
   "metadata": {},
   "source": [
    "## Question 1\n",
    "\n",
    "**Person:** Use a dictionary to store information about a person you know. Store their first name, last name, age, and the city in which they live. You should have keys such as first_name, last_name, age, and city. Print each piece of information stored in your dictionary."
   ]
  },
  {
   "cell_type": "code",
   "execution_count": 1,
   "id": "2",
   "metadata": {},
   "outputs": [
    {
     "name": "stdout",
     "output_type": "stream",
     "text": [
      "First Name: Rachel\n",
      "Last Name: Green\n",
      "Age: 30\n",
      "City: New York\n"
     ]
    }
   ],
   "source": [
    "# Dictionary to store information about a person\n",
    "person = {\n",
    "    \"first_name\": \"Rachel\",\n",
    "    \"last_name\": \"Green\",\n",
    "    \"age\": 30,\n",
    "    \"city\": \"New York\"\n",
    "}\n",
    "\n",
    "# Print each piece of information\n",
    "print(f\"First Name: {person['first_name']}\")\n",
    "print(f\"Last Name: {person['last_name']}\")\n",
    "print(f\"Age: {person['age']}\")\n",
    "print(f\"City: {person['city']}\")\n"
   ]
  },
  {
   "cell_type": "markdown",
   "id": "3",
   "metadata": {},
   "source": [
    "## Question 2\n",
    "\n",
    "**Favorite Numbers:** Use a dictionary to store people’s favorite numbers. Think of five names, and use them as keys in your dictionary. Think of a favorite number for each person, and store each as a value in your dictionary. Print each person’s name and their favorite number. For even more fun, poll a few friends and get some actual data for your program."
   ]
  },
  {
   "cell_type": "code",
   "execution_count": 2,
   "id": "4",
   "metadata": {},
   "outputs": [
    {
     "name": "stdout",
     "output_type": "stream",
     "text": [
      "fio's favorite number is 24\n",
      "adit's favorite number is 1\n",
      "bayu's favorite number is 4\n",
      "rachel's favorite number is 88\n",
      "andri's favorite number is 7\n"
     ]
    }
   ],
   "source": [
    "# Dictionary to store information about a person and their favorite number\n",
    "fav_number = {}\n",
    "\n",
    "# Poll five friends\n",
    "for _ in range(5):\n",
    "    name = input(\"What is your name? \")\n",
    "    number = int(input(f\"Hi {name}, what is your favorite number? \"))\n",
    "    fav_number[name] = number\n",
    "\n",
    "# Print the results\n",
    "for name, number in fav_number.items():\n",
    "    print(f\"{name}'s favorite number is {number}\")"
   ]
  },
  {
   "cell_type": "markdown",
   "id": "5",
   "metadata": {},
   "source": [
    "## Question 3\n",
    "\n",
    "**Glossary:** A Python dictionary can be used to model an actual dictionary. However, to avoid confusion, let’s call it a glossary.\n",
    "\n",
    "- Think of five programming words you’ve learned about in the previous chapters. Use these words as the keys in your glossary, and store their meanings as values.\n",
    "- Print each word and its meaning as neatly formatted output. You might print the word followed by a colon and then its meaning, or print the word on one line and then print its meaning indented on a second line. Use the newline character (\\n) to insert a blank line between each word-meaning pair in your output."
   ]
  },
  {
   "cell_type": "code",
   "execution_count": 6,
   "id": "6",
   "metadata": {},
   "outputs": [
    {
     "name": "stdout",
     "output_type": "stream",
     "text": [
      "Variable:\n",
      " A container for storing data values.\n",
      "\n",
      "Function:\n",
      " A block of code that performs a specific task and can be reused.\n",
      "\n",
      "Loop:\n",
      " A control structure used to repeat a block of code multiple times.\n",
      "\n",
      "Dictionary:\n",
      " A data structure that stores key-value pairs.\n",
      "\n",
      "List:\n",
      " A collection of items in a particular order.\n",
      "\n"
     ]
    }
   ],
   "source": [
    "# Glossary of programming words\n",
    "glossary = {\n",
    "    \"variable\": \"A container for storing data values.\",\n",
    "    \"function\": \"A block of code that performs a specific task and can be reused.\",\n",
    "    \"loop\": \"A control structure used to repeat a block of code multiple times.\",\n",
    "    \"dictionary\": \"A data structure that stores key-value pairs.\",\n",
    "    \"list\": \"A collection of items in a particular order.\"\n",
    "}\n",
    "\n",
    "for language, value in glossary.items():\n",
    "    print(f\"{language.title()}:\\n {value}\\n\")"
   ]
  },
  {
   "cell_type": "markdown",
   "id": "7",
   "metadata": {},
   "source": [
    "## Question 4\n",
    "\n",
    "**Glossary 2:** Now that you know how to loop through a dictionary, clean up the code from Question 3 by replacing your series of print() calls with a loop that runs through the dictionary’s keys and values. When you’re sure that your loop works, add five more Python terms to your glossary. When you run your program again, these new words and meanings should automatically be included in the output."
   ]
  },
  {
   "cell_type": "code",
   "execution_count": 7,
   "id": "8",
   "metadata": {},
   "outputs": [
    {
     "name": "stdout",
     "output_type": "stream",
     "text": [
      "Variable:\n",
      " A container for storing data values.\n",
      "\n",
      "Function:\n",
      " A block of code that performs a specific task and can be reused.\n",
      "\n",
      "Loop:\n",
      " A control structure used to repeat a block of code multiple times.\n",
      "\n",
      "Dictionary:\n",
      " A data structure that stores key-value pairs.\n",
      "\n",
      "List:\n",
      " A collection of items in a particular order.\n",
      "\n",
      "Python:\n",
      " A versatile, high-level programming language known for its readability and wide range of applications.\n",
      "\n",
      "Javascript:\n",
      " A lightweight, interpreted language commonly used for web development to make websites interactive.\n",
      "\n",
      "Java:\n",
      " A general-purpose, object-oriented programming language used in various domains, including mobile and enterprise applications.\n",
      "\n",
      "C++:\n",
      " An extension of the C programming language, widely used for system programming, game development, and performance-critical applications.\n",
      "\n",
      "Ruby:\n",
      " A dynamic, open-source programming language focused on simplicity and productivity, often used in web development.\n",
      "\n"
     ]
    }
   ],
   "source": [
    "# Glossary of programming words\n",
    "glossary = {\n",
    "    \"variable\": \"A container for storing data values.\",\n",
    "    \"function\": \"A block of code that performs a specific task and can be reused.\",\n",
    "    \"loop\": \"A control structure used to repeat a block of code multiple times.\",\n",
    "    \"dictionary\": \"A data structure that stores key-value pairs.\",\n",
    "    \"list\": \"A collection of items in a particular order.\"\n",
    "}\n",
    "\n",
    "glossary.update({\n",
    "    \"Python\": \"A versatile, high-level programming language known for its readability and wide range of applications.\",\n",
    "    \"JavaScript\": \"A lightweight, interpreted language commonly used for web development to make websites interactive.\",\n",
    "    \"Java\": \"A general-purpose, object-oriented programming language used in various domains, including mobile and enterprise applications.\",\n",
    "    \"C++\": \"An extension of the C programming language, widely used for system programming, game development, and performance-critical applications.\",\n",
    "    \"Ruby\": \"A dynamic, open-source programming language focused on simplicity and productivity, often used in web development.\"\n",
    "})\n",
    "\n",
    "for language, value in glossary.items():\n",
    "    print(f\"{language.title()}:\\n {value}\\n\")"
   ]
  },
  {
   "cell_type": "markdown",
   "id": "9",
   "metadata": {},
   "source": [
    "## Question 5\n",
    "\n",
    "**Rivers:** Make a dictionary containing three major rivers and the country each river runs through. One key-value pair might be 'nile': 'egypt'.\n",
    "\n",
    "- Use a loop to print a sentence about each river, such as _The Nile runs through Egypt._\n",
    "- Use a loop to print the name of each river included in the dictionary.\n",
    "- Use a loop to print the name of each country included in the dictionary."
   ]
  },
  {
   "cell_type": "code",
   "execution_count": 10,
   "id": "10",
   "metadata": {},
   "outputs": [
    {
     "name": "stdout",
     "output_type": "stream",
     "text": [
      "The Nile runs through Egypt.\n",
      "The Amazon runs through Brazil.\n",
      "The Yangtze runs through China.\n",
      "\n",
      "\n",
      "Nile\n",
      "Amazon\n",
      "Yangtze\n",
      "\n",
      "\n",
      "Egypt\n",
      "Brazil\n",
      "China\n"
     ]
    }
   ],
   "source": [
    "rivers = {\n",
    "    \"Nile\": \"Egypt\",\n",
    "    \"Amazon\": \"Brazil\",\n",
    "    \"Yangtze\": \"China\"\n",
    "}\n",
    "\n",
    "for river, country in rivers.items():\n",
    "    print(f\"The {river} runs through {country}.\")\n",
    "\n",
    "print(\"\\n\")\n",
    "\n",
    "# Name of each river\n",
    "for river in rivers.keys():\n",
    "    print(river)\n",
    "print(\"\\n\")\n",
    "\n",
    "# Name of each country\n",
    "for country in rivers.values():\n",
    "    print(country)"
   ]
  },
  {
   "cell_type": "markdown",
   "id": "11",
   "metadata": {},
   "source": [
    "## Question 6\n",
    "\n",
    "**Cities:** Make a dictionary called `cities`. Use the names of three cities as keys in your dictionary. Create a dictionary of information about each city and include the country that the city is in, its approximate population, and one fact about that city. The keys for each city’s dictionary should be something like `country`, `population`, and `fact`. Print the name of each city and all of the information you have stored about it."
   ]
  },
  {
   "cell_type": "code",
   "execution_count": 11,
   "id": "12",
   "metadata": {},
   "outputs": [
    {
     "name": "stdout",
     "output_type": "stream",
     "text": [
      "\n",
      "City: Tokyo\n",
      "  Country: Japan\n",
      "  Population: 37 million\n",
      "  Fact: Tokyo is the most populous metropolitan area in the world.\n",
      "\n",
      "City: Paris\n",
      "  Country: France\n",
      "  Population: 11 million\n",
      "  Fact: Paris is known as the 'City of Light' and is famous for its art, fashion, and culture.\n",
      "\n",
      "City: Cairo\n",
      "  Country: Egypt\n",
      "  Population: 21 million\n",
      "  Fact: Cairo is home to the Great Pyramid of Giza, one of the Seven Wonders of the Ancient World.\n"
     ]
    }
   ],
   "source": [
    "cities = {\n",
    "    \"Tokyo\": {\n",
    "        \"country\": \"Japan\",\n",
    "        \"population\": \"37 million\",\n",
    "        \"fact\": \"Tokyo is the most populous metropolitan area in the world.\"\n",
    "    },\n",
    "    \"Paris\": {\n",
    "        \"country\": \"France\",\n",
    "        \"population\": \"11 million\",\n",
    "        \"fact\": \"Paris is known as the 'City of Light' and is famous for its art, fashion, and culture.\"\n",
    "    },\n",
    "    \"Cairo\": {\n",
    "        \"country\": \"Egypt\",\n",
    "        \"population\": \"21 million\",\n",
    "        \"fact\": \"Cairo is home to the Great Pyramid of Giza, one of the Seven Wonders of the Ancient World.\"\n",
    "    }\n",
    "}\n",
    "\n",
    "# Print each city's information\n",
    "for city, info in cities.items():\n",
    "    print(f\"\\nCity: {city}\")\n",
    "    for key, value in info.items():\n",
    "        print(f\"  {key.title()}: {value}\")"
   ]
  },
  {
   "cell_type": "markdown",
   "id": "13",
   "metadata": {},
   "source": [
    "## Question 7\n",
    "\n",
    "**Rental Car:** Write a program that asks the user what kind of rental car they would like. Print a message about that car, such as “Let me see if I can find you a Subaru.”"
   ]
  },
  {
   "cell_type": "code",
   "execution_count": 12,
   "id": "14",
   "metadata": {},
   "outputs": [
    {
     "name": "stdout",
     "output_type": "stream",
     "text": [
      "Let me see if I can find you a Wuling.\n"
     ]
    }
   ],
   "source": [
    "car = input(f\"what kind of rental car you would like? \")\n",
    "print(f\"Let me see if I can find you a {car.title()}.\")"
   ]
  },
  {
   "cell_type": "markdown",
   "id": "15",
   "metadata": {},
   "source": [
    "## Question 8\n",
    "\n",
    "**Restaurant Seating:** Write a program that asks the user how many people are in their dinner group. If the answer is more than eight, print a message saying they’ll have to wait for a table. Otherwise, report that their table is ready."
   ]
  },
  {
   "cell_type": "code",
   "execution_count": 13,
   "id": "16",
   "metadata": {},
   "outputs": [
    {
     "name": "stdout",
     "output_type": "stream",
     "text": [
      "Your table is ready.\n"
     ]
    }
   ],
   "source": [
    "find_people = int(input(\"How many people are in your dinner group? \"))\n",
    "if find_people > 8:\n",
    "    print(\"I'm sorry, you'll have to wait for a table.\")\n",
    "else:\n",
    "    print(\"Your table is ready.\")"
   ]
  },
  {
   "cell_type": "markdown",
   "id": "17",
   "metadata": {},
   "source": [
    "## Question 9\n",
    "\n",
    "**Multiples of Ten:** Ask the user for a number, and then report whether the number is a multiple of 10 or not."
   ]
  },
  {
   "cell_type": "code",
   "execution_count": 14,
   "id": "18",
   "metadata": {},
   "outputs": [
    {
     "name": "stdout",
     "output_type": "stream",
     "text": [
      "The number is a multiple of 10.\n"
     ]
    }
   ],
   "source": [
    "number = int(input(\"Enter a number: \"))\n",
    "if number % 10 == 0:\n",
    "    print(\"The number is a multiple of 10.\")\n",
    "else:\n",
    "    print(\"The number is not a multiple of 10.\")"
   ]
  },
  {
   "cell_type": "markdown",
   "id": "19",
   "metadata": {},
   "source": [
    "## Question 10\n",
    "\n",
    "**Pizza Toppings:** Write a loop that prompts the user to enter a series of pizza toppings until they enter a 'quit' value. As they enter each topping, print a message saying you’ll add that topping to their pizza."
   ]
  },
  {
   "cell_type": "code",
   "execution_count": null,
   "id": "20",
   "metadata": {},
   "outputs": [
    {
     "name": "stdout",
     "output_type": "stream",
     "text": [
      "you add ayam to your pizza.\n",
      "you add babi to your pizza.\n",
      "\n",
      "Your pizza toppings are:\n",
      "\n",
      "ayam\n",
      "babi\n"
     ]
    }
   ],
   "source": [
    "pizza_toppings = []\n",
    "\n",
    "while True:\n",
    "    topping = input(\"Enter a topping for your pizza: \")\n",
    "    if topping == \"quit\":\n",
    "        break\n",
    "    else:\n",
    "        pizza_toppings.append(topping)\n",
    "        print(f\"you add {topping} to your pizza.\")\n",
    "\n",
    "print(\"\\nYour pizza toppings are:\")\n",
    "for topping in pizza_toppings:\n",
    "    print(topping)\n"
   ]
  },
  {
   "cell_type": "markdown",
   "id": "21",
   "metadata": {},
   "source": [
    "## Question 11\n",
    "\n",
    "**Message:** Write a function called `display_message()` that prints one sentence telling everyone what you are learning about in this chapter. Call the function, and make sure the message displays correctly."
   ]
  },
  {
   "cell_type": "code",
   "execution_count": 23,
   "id": "22",
   "metadata": {},
   "outputs": [
    {
     "name": "stdout",
     "output_type": "stream",
     "text": [
      "I'm learning about in Python: \n",
      "\n",
      "Basics of Python: Installation, syntax, variables, and data types\n",
      "Control Flow: Conditionals, loops, and logical operators\n",
      "Data Structures: Lists, tuples, dictionaries, and sets\n",
      "Functions: Defining functions, arguments, return values, and scope\n",
      "Modules and Libraries: Importing modules and creating your own\n",
      "File Handling: Reading and writing files\n",
      "Object-Oriented Programming (OOP): Classes, objects, inheritance\n",
      "Error Handling: Using try, except, and finally blocks\n",
      "Working with Libraries: Pandas, NumPy, Matplotlib, and more\n",
      "Projects and Practice: Small projects like calculators or games\n"
     ]
    }
   ],
   "source": [
    "def display_message():\n",
    "    print(\"what I'm learning about in Python: \\n\")\n",
    "    for python in python_topics:\n",
    "        print(f\"{python}\")\n",
    "\n",
    "python_topics = [\n",
    "    \"Basics of Python: Installation, syntax, variables, and data types\",\n",
    "    \"Control Flow: Conditionals, loops, and logical operators\",\n",
    "    \"Data Structures: Lists, tuples, dictionaries, and sets\",\n",
    "    \"Functions: Defining functions, arguments, return values, and scope\",\n",
    "    \"Modules and Libraries: Importing modules and creating your own\",\n",
    "    \"File Handling: Reading and writing files\",\n",
    "    \"Object-Oriented Programming (OOP): Classes, objects, inheritance\",\n",
    "    \"Error Handling: Using try, except, and finally blocks\",\n",
    "    \"Working with Libraries: Pandas, NumPy, Matplotlib, and more\",\n",
    "    \"Projects and Practice: Small projects like calculators or games\"\n",
    "]\n",
    "\n",
    "display_message()"
   ]
  },
  {
   "cell_type": "markdown",
   "id": "23",
   "metadata": {},
   "source": [
    "## Question 12\n",
    "\n",
    "**Favorite Book:** Write a function called `favorite_book()` that accepts one parameter, title. The function should print a message, such as `One of my favorite books is Alice in Wonderland`. Call the function, making sure to include a book title as an argument in the function call."
   ]
  },
  {
   "cell_type": "code",
   "execution_count": 24,
   "id": "24",
   "metadata": {},
   "outputs": [
    {
     "name": "stdout",
     "output_type": "stream",
     "text": [
      "One of my favorite books is Alice in Wonderland.\n"
     ]
    }
   ],
   "source": [
    "def favorite_book(title):\n",
    "    print(f\"One of my favorite books is {title}.\")\n",
    "\n",
    "favorite_book(\"Alice in Wonderland\")"
   ]
  },
  {
   "cell_type": "markdown",
   "id": "25",
   "metadata": {},
   "source": [
    "## Question 13\n",
    "\n",
    "**T-Shirt:** Write a function called `make_shirt()` that accepts a size and the text of a message that should be printed on the shirt. The function should print a sentence summarizing the size of the shirt and the message printed on it.\n",
    "\n",
    "Call the function once using positional arguments to make a shirt. Call the function a second time using keyword arguments."
   ]
  },
  {
   "cell_type": "code",
   "execution_count": null,
   "id": "67bb82c0",
   "metadata": {},
   "outputs": [],
   "source": []
  },
  {
   "cell_type": "code",
   "execution_count": 26,
   "id": "26",
   "metadata": {},
   "outputs": [
    {
     "name": "stdout",
     "output_type": "stream",
     "text": [
      "The size of the shirt is large and the text on the shirt is Hello, World!.\n",
      "The size of the shirt is Medium and the text on the shirt is Code your dreams!.\n"
     ]
    }
   ],
   "source": [
    "def make_shirt(size, text):\n",
    "    print(f\"The size of the shirt is {size} and the text on the shirt is {text}.\")\n",
    "\n",
    "make_shirt(\"large\", \"Hello, World!\")\n",
    "\n",
    "# Call the function using keyword arguments\n",
    "make_shirt(text=\"Code your dreams!\", size=\"Medium\")\n"
   ]
  },
  {
   "cell_type": "markdown",
   "id": "27",
   "metadata": {},
   "source": [
    "## Question 14\n",
    "\n",
    "**Large Shirts:** Modify the `make_shirt()` function so that shirts are large by default with a message that reads _I love Python_. Make a large shirt and a medium shirt with the default message, and a shirt of any size with a different message."
   ]
  },
  {
   "cell_type": "code",
   "execution_count": 29,
   "id": "28",
   "metadata": {},
   "outputs": [
    {
     "name": "stdout",
     "output_type": "stream",
     "text": [
      "The size of the shirt is ('large', 'medium') and the text on the shirt is _i love python_.\n"
     ]
    }
   ],
   "source": [
    "def make_shirt(size=(\"large\",\"medium\"), text=\"_i love python_\"):\n",
    "    print(f\"The size of the shirt is {size} and the text on the shirt is {text}.\")\n",
    "\n",
    "make_shirt()\n",
    "\n"
   ]
  },
  {
   "cell_type": "markdown",
   "id": "29",
   "metadata": {},
   "source": [
    "## Question 15\n",
    "\n",
    "**Cities:** Write a function called `describe_city()` that accepts the name of a city and its country. The function should print a simple sentence, such as `Reykjavik is in Iceland`. Give the parameter for the country a default value. Call your function for three different cities, at least one of which is not in the default country."
   ]
  },
  {
   "cell_type": "code",
   "execution_count": 32,
   "id": "30",
   "metadata": {},
   "outputs": [
    {
     "name": "stdout",
     "output_type": "stream",
     "text": [
      "Reykjavik is in, iceland.\n",
      "Akureyri is in, iceland.\n",
      "Tokyo is in, Japan.\n"
     ]
    }
   ],
   "source": [
    "def describe_city(city, country=\"iceland\"):\n",
    "    print(f\"{city} is in, {country}.\")\n",
    "\n",
    "# Call the function for three cities\n",
    "describe_city(\"Reykjavik\")  # Uses the default country\n",
    "describe_city(\"Akureyri\")   # Uses the default country\n",
    "describe_city(\"Tokyo\", \"Japan\")  # Overrides the default country"
   ]
  },
  {
   "cell_type": "markdown",
   "id": "31",
   "metadata": {},
   "source": [
    "## Question 16\n",
    "\n",
    "**City Names:** Write a function called `city_country()` that takes in the name of a city and its country. The function should return a string formatted like this:\n",
    "\n",
    "```text\n",
    "Santiago, Chile\n",
    "```\n",
    "\n",
    "Call your function with at least three city-country pairs, and print the values that are returned."
   ]
  },
  {
   "cell_type": "code",
   "execution_count": null,
   "id": "32",
   "metadata": {},
   "outputs": [],
   "source": []
  },
  {
   "cell_type": "markdown",
   "id": "33",
   "metadata": {},
   "source": [
    "## Question 17\n",
    "\n",
    "**Album:** Write a function called `make_album()` that builds a dictionary describing a music album. The function should take in an artist name and an album title, and it should return a dictionary containing these two pieces of information. Use the function to make three dictionaries representing different albums. Print each return value to show that the dictionaries are storing the album information correctly.\n",
    "\n",
    "Use None to add an optional parameter to make_album() that allows you to store the number of songs on an album. If the calling line includes a value for the number of songs, add that value to the album’s dictionary. Make at least one new function call that includes the number of songs on an album."
   ]
  },
  {
   "cell_type": "code",
   "execution_count": null,
   "id": "34",
   "metadata": {},
   "outputs": [],
   "source": []
  },
  {
   "cell_type": "markdown",
   "id": "35",
   "metadata": {},
   "source": [
    "## Question 18\n",
    "\n",
    "**User Albums:** Start with your program from Question 17. Write a `while` loop that allows users to enter an album’s artist and title. Once you have that information, call `make_album()` with the user’s input and print the dictionary that’s created. Be sure to include a quit value in the `while` loop."
   ]
  },
  {
   "cell_type": "code",
   "execution_count": null,
   "id": "36",
   "metadata": {},
   "outputs": [],
   "source": []
  },
  {
   "cell_type": "markdown",
   "id": "37",
   "metadata": {},
   "source": [
    "## Question 19\n",
    "\n",
    "**Messages:** Make a list containing a series of short text messages. Pass the list to a function called `show_messages()`, which prints each text message."
   ]
  },
  {
   "cell_type": "code",
   "execution_count": null,
   "id": "38",
   "metadata": {},
   "outputs": [],
   "source": []
  },
  {
   "cell_type": "markdown",
   "id": "39",
   "metadata": {},
   "source": [
    "## Question 20\n",
    "\n",
    "**Sending Messages:** Start with a copy of your program from Question 19. Write a function called `send_messages()` that prints each text message and moves each message to a new list called `sent_messages` as it’s printed. After calling the function, print both of your lists to make sure the messages were moved correctly."
   ]
  },
  {
   "cell_type": "code",
   "execution_count": null,
   "id": "40",
   "metadata": {},
   "outputs": [],
   "source": []
  },
  {
   "cell_type": "markdown",
   "id": "41",
   "metadata": {},
   "source": [
    "## Question 21\n",
    "\n",
    "**Learning Python:** Open a blank file in your text editor and write a few lines summarizing what you’ve learned about Python so far. Start each line with the phrase _In Python you can. . .._ Save the file as _learning_python.txt_ in the same directory as your exercises from this chapter. Write a program that reads the file and prints what you wrote three times. Print the contents once by reading in the entire file, once by looping over the file object, and once by storing the lines in a list and then working with them outside the _with_ block."
   ]
  },
  {
   "cell_type": "code",
   "execution_count": null,
   "id": "42",
   "metadata": {},
   "outputs": [],
   "source": []
  },
  {
   "cell_type": "markdown",
   "id": "43",
   "metadata": {},
   "source": [
    "## Question 22\n",
    "\n",
    "**Learning C:** You can use the replace() method to replace any word in a string with a different word. Here’s a quick example showing how to replace 'dog' with 'cat' in a sentence:\n",
    "\n",
    "```text\n",
    "message = \"I really like dogs.\"\n",
    "message.replace('dog', 'cat')\n",
    "'I really like cats.'\n",
    "```\n",
    "\n",
    "Read in each line from the file you just created, _learning_python.txt_, and replace the word _Python_ with the name of another language, such as _C_. Print each modified line to the screen."
   ]
  },
  {
   "cell_type": "code",
   "execution_count": null,
   "id": "44",
   "metadata": {},
   "outputs": [],
   "source": []
  },
  {
   "cell_type": "markdown",
   "id": "45",
   "metadata": {},
   "source": [
    "## Question 23\n",
    "\n",
    "**Guest:** Write a program that prompts the user for their name. When they respond, write their name to a file called guest.txt."
   ]
  },
  {
   "cell_type": "code",
   "execution_count": null,
   "id": "46",
   "metadata": {},
   "outputs": [],
   "source": []
  },
  {
   "cell_type": "markdown",
   "id": "47",
   "metadata": {},
   "source": [
    "## Question 24\n",
    "\n",
    "**Guest Book:** Write a while loop that prompts users for their name. When they enter their name, print a greeting to the screen and add a line recording their visit in a file called guest_book.txt. Make sure each entry appears on a new line in the file."
   ]
  },
  {
   "cell_type": "code",
   "execution_count": null,
   "id": "48",
   "metadata": {},
   "outputs": [],
   "source": []
  },
  {
   "cell_type": "markdown",
   "id": "49",
   "metadata": {},
   "source": [
    "## Question 25\n",
    "\n",
    "**Programming Poll:** Write a while loop that asks people why they like programming. Each time someone enters a reason, add their reason to a file that stores all the responses."
   ]
  },
  {
   "cell_type": "code",
   "execution_count": null,
   "id": "50",
   "metadata": {},
   "outputs": [],
   "source": []
  },
  {
   "cell_type": "markdown",
   "id": "51",
   "metadata": {},
   "source": [
    "## Question 26\n",
    "\n",
    "**Addition:** One common problem when prompting for numerical input occurs when people provide text instead of numbers. When you try to convert the input to an int, you’ll get a ValueError. Write a program that prompts for two numbers. Add them together and print the result. Catch the ValueError if either input value is not a number, and print a friendly error message. Test your program by entering two numbers and then by entering some text instead of a number."
   ]
  },
  {
   "cell_type": "code",
   "execution_count": null,
   "id": "52",
   "metadata": {},
   "outputs": [],
   "source": []
  },
  {
   "cell_type": "markdown",
   "id": "53",
   "metadata": {},
   "source": [
    "## Question 27\n",
    "\n",
    "**Addition Calculator:** Wrap your code from Question 26 in a while loop so the user can continue entering numbers even if they make a mistake and enter text instead of a number."
   ]
  },
  {
   "cell_type": "code",
   "execution_count": null,
   "id": "54",
   "metadata": {},
   "outputs": [],
   "source": []
  },
  {
   "cell_type": "markdown",
   "id": "55",
   "metadata": {},
   "source": [
    "## Question 28\n",
    "\n",
    "**Cats and Dogs:** Make two files, _cats.txt_ and _dogs.txt_. Store at least three names of cats in the first file and three names of dogs in the second file. Write a program that tries to read these files and print the contents of the file to the screen. Wrap your code in a `try-except` block to catch the `FileNotFound` error, and print a friendly message if a file is missing. Move one of the files to a different location on your system, and make sure the code in the `except` block executes properly."
   ]
  },
  {
   "cell_type": "code",
   "execution_count": null,
   "id": "56",
   "metadata": {},
   "outputs": [],
   "source": []
  },
  {
   "cell_type": "markdown",
   "id": "57",
   "metadata": {},
   "source": [
    "## Question 29\n",
    "\n",
    "**Silent Cats and Dogs:** Modify your except block in Question 28 to fail silently if either file is missing."
   ]
  },
  {
   "cell_type": "code",
   "execution_count": null,
   "id": "58",
   "metadata": {},
   "outputs": [],
   "source": []
  },
  {
   "cell_type": "markdown",
   "id": "59",
   "metadata": {},
   "source": [
    "## Question 30\n",
    "\n",
    "**Common Words:** Visit Project Gutenberg (<https://gutenberg.org/>) and find a few texts you’d like to analyze. Download the text files for these works, or copy the raw text from your browser into a text file on your computer. You can use the `count()` method to find out how many times a word or phrase appears in a string. For example, the following code counts the number of times 'row' appears in a string:"
   ]
  },
  {
   "cell_type": "code",
   "execution_count": null,
   "id": "60",
   "metadata": {},
   "outputs": [],
   "source": [
    "line = \"Row, row, row your boat\"\n",
    "line.count(\"row\")"
   ]
  },
  {
   "cell_type": "code",
   "execution_count": null,
   "id": "61",
   "metadata": {},
   "outputs": [],
   "source": [
    "line.lower().count(\"row\")"
   ]
  },
  {
   "cell_type": "markdown",
   "id": "62",
   "metadata": {},
   "source": [
    "Notice that converting the string to lowercase using lower() catches all appearances of the word you’re looking for, regardless of how it’s formatted.\n",
    "\n",
    "Write a program that reads the files you found at Project Gutenberg and determines how many times the word `the` appears in each text. This will be an approximation because it will also count words such as `then` and `there`. Try counting `the`, with a space in the string, and see how much lower your count is."
   ]
  },
  {
   "cell_type": "code",
   "execution_count": null,
   "id": "63",
   "metadata": {},
   "outputs": [],
   "source": []
  }
 ],
 "metadata": {
  "kernelspec": {
   "display_name": "base",
   "language": "python",
   "name": "python3"
  },
  "language_info": {
   "codemirror_mode": {
    "name": "ipython",
    "version": 3
   },
   "file_extension": ".py",
   "mimetype": "text/x-python",
   "name": "python",
   "nbconvert_exporter": "python",
   "pygments_lexer": "ipython3",
   "version": "3.11.10"
  }
 },
 "nbformat": 4,
 "nbformat_minor": 5
}
